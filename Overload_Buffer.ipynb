{
  "nbformat": 4,
  "nbformat_minor": 0,
  "metadata": {
    "colab": {
      "name": "Overload Buffer.ipynb",
      "provenance": [],
      "authorship_tag": "ABX9TyPr+rK2oxU3fnzwnBaSlEa0",
      "include_colab_link": true
    },
    "kernelspec": {
      "name": "python3",
      "display_name": "Python 3"
    }
  },
  "cells": [
    {
      "cell_type": "markdown",
      "metadata": {
        "id": "view-in-github",
        "colab_type": "text"
      },
      "source": [
        "<a href=\"https://colab.research.google.com/github/kradriany/Scratch/blob/Overload/Overload_Buffer.ipynb\" target=\"_parent\"><img src=\"https://colab.research.google.com/assets/colab-badge.svg\" alt=\"Open In Colab\"/></a>"
      ]
    },
    {
      "cell_type": "markdown",
      "metadata": {
        "id": "KIh9CrpxaDqL",
        "colab_type": "text"
      },
      "source": [
        "Creates a buffer between you and the content viewed on your screen to enable the detection and filtering of siezure-inducing content."
      ]
    },
    {
      "cell_type": "code",
      "metadata": {
        "id": "VwKS2kHQZ8Cz",
        "colab_type": "code",
        "colab": {}
      },
      "source": [
        ""
      ],
      "execution_count": null,
      "outputs": []
    }
  ]
}